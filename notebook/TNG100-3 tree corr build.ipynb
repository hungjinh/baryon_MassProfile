{
 "cells": [
  {
   "cell_type": "code",
   "execution_count": 1,
   "metadata": {},
   "outputs": [
    {
     "name": "stdout",
     "output_type": "stream",
     "text": [
      "Populating the interactive namespace from numpy and matplotlib\n"
     ]
    }
   ],
   "source": [
    "import sys\n",
    "sys.path.append(\"/Users/hhg/Research/c_lib/\")\n",
    "import illustris_python as il\n",
    "import pandas as pd\n",
    "from astropy.table import Table\n",
    "import h5py\n",
    "\n",
    "%pylab inline"
   ]
  },
  {
   "cell_type": "code",
   "execution_count": 2,
   "metadata": {},
   "outputs": [],
   "source": [
    "%run ../code/load_catalog.py"
   ]
  },
  {
   "cell_type": "markdown",
   "metadata": {},
   "source": [
    "### 1. loading snapshot info"
   ]
  },
  {
   "cell_type": "code",
   "execution_count": 3,
   "metadata": {},
   "outputs": [],
   "source": [
    "basePath = \"/Users/hhg/Research/baryon_MassProfile/catalog/TNG100-3\"\n",
    "snap = 94\n",
    "subsample_frac = 0.01"
   ]
  },
  {
   "cell_type": "code",
   "execution_count": 4,
   "metadata": {},
   "outputs": [
    {
     "name": "stdout",
     "output_type": "stream",
     "text": [
      "loading snapshot ptl: dm\n",
      "loading snapshot ptl: gas\n",
      "loading snapshot ptl: star\n",
      "loading snapshot ptl: bh\n"
     ]
    }
   ],
   "source": [
    "snap_info = TNGsnap_info(basePath, snap, subsample_frac)"
   ]
  },
  {
   "cell_type": "code",
   "execution_count": 5,
   "metadata": {},
   "outputs": [
    {
     "data": {
      "text/plain": [
       "(1854735, 3)"
      ]
     },
     "execution_count": 5,
     "metadata": {},
     "output_type": "execute_result"
    }
   ],
   "source": [
    "snap_info.snap_cat['pos'].shape"
   ]
  },
  {
   "cell_type": "code",
   "execution_count": 6,
   "metadata": {},
   "outputs": [
    {
     "data": {
      "text/plain": [
       "(1854735,)"
      ]
     },
     "execution_count": 6,
     "metadata": {},
     "output_type": "execute_result"
    }
   ],
   "source": [
    "snap_info.snap_cat['mass'].shape"
   ]
  },
  {
   "cell_type": "markdown",
   "metadata": {},
   "source": [
    "### 2. creating matched halo info"
   ]
  },
  {
   "cell_type": "code",
   "execution_count": 7,
   "metadata": {},
   "outputs": [
    {
     "name": "stdout",
     "output_type": "stream",
     "text": [
      "available keys: <KeysViewHDF5 ['SubhaloIndexDark_LHaloTree', 'SubhaloIndexDark_SubLink']>\n"
     ]
    }
   ],
   "source": [
    "basePath_hydro = \"/Users/hhg/Research/baryon_MassProfile/catalog/TNG100-3\"\n",
    "basePath_dmo = \"/Users/hhg/Research/baryon_MassProfile/catalog/TNG100-3-dark\"\n",
    "snap = 94\n",
    "\n",
    "log10_Mhalo_range = [14.0, 15.]\n",
    "\n",
    "Cat = TNGmatched_groupCat(basePath_hydro, basePath_dmo, snap, log10_Mhalo_range)"
   ]
  },
  {
   "cell_type": "code",
   "execution_count": 8,
   "metadata": {},
   "outputs": [
    {
     "data": {
      "text/plain": [
       "(14, 3)"
      ]
     },
     "execution_count": 8,
     "metadata": {},
     "output_type": "execute_result"
    }
   ],
   "source": [
    "Cat.matched_halo_cat_hydro['GroupPos'].shape"
   ]
  },
  {
   "cell_type": "markdown",
   "metadata": {},
   "source": [
    "### 3. building correlation function"
   ]
  },
  {
   "cell_type": "code",
   "execution_count": 9,
   "metadata": {},
   "outputs": [
    {
     "data": {
      "text/plain": [
       "'4.0.10'"
      ]
     },
     "execution_count": 9,
     "metadata": {},
     "output_type": "execute_result"
    }
   ],
   "source": [
    "import treecorr\n",
    "treecorr.__version__"
   ]
  },
  {
   "cell_type": "code",
   "execution_count": 10,
   "metadata": {},
   "outputs": [],
   "source": [
    "factor_Nhalo=500\n",
    "randoms1=np.random.uniform(0, 75000, size=(len(Cat.matched_halo_cat_hydro)*factor_Nhalo, 3))\n",
    "\n",
    "factor_Nptl=1\n",
    "randoms2=np.random.uniform(0, 75000, size=(len(snap_info.snap_cat['pos'])*factor_Nptl, 3))\n",
    "\n",
    "randoms1=randoms2   # need more halo randoms to compute at very small scales."
   ]
  },
  {
   "cell_type": "code",
   "execution_count": 11,
   "metadata": {},
   "outputs": [],
   "source": [
    "#https://rmjarvis.github.io/TreeCorr/_build/html/catalog.html#the-catalog-class\n",
    "\n",
    "halo_pos = Cat.matched_halo_cat_hydro['GroupPos']\n",
    "halo_wt = Cat.matched_halo_cat_hydro['GroupMass']*1.\n",
    "halo_wt /= halo_wt.max()\n",
    "\n",
    "D1 = treecorr.Catalog(x=halo_pos[:,0], y=halo_pos[:,1], z=halo_pos[:,2], w=halo_wt)\n",
    "\n",
    "ptl_pos = snap_info.snap_cat['pos']\n",
    "ptl_wt = snap_info.snap_cat['mass']*1.\n",
    "ptl_wt/=ptl_wt.max()\n",
    "\n",
    "D2 = treecorr.Catalog(x=ptl_pos[:,0], y=ptl_pos[:,1], z=ptl_pos[:,2], w=ptl_wt)\n",
    "\n",
    "R1 = treecorr.Catalog(x=randoms1[:,0], y=randoms1[:,1], z=randoms1[:,2])\n",
    "\n",
    "R2 = treecorr.Catalog(x=randoms2[:,0], y=randoms2[:,1], z=randoms2[:,2])"
   ]
  },
  {
   "cell_type": "code",
   "execution_count": 12,
   "metadata": {},
   "outputs": [],
   "source": [
    "#https://rmjarvis.github.io/TreeCorr/_build/html/nn.html\n",
    "\n",
    "\n",
    "rmin=10. # [kpc/h]\n",
    "rmax=3000\n",
    "\n",
    "DD = treecorr.NNCorrelation(min_sep=rmin,max_sep=rmax,nbins=10) #match the units of r with units of position\n",
    "DR = treecorr.NNCorrelation(min_sep=rmin,max_sep=rmax,nbins=10)\n",
    "RR = treecorr.NNCorrelation(min_sep=rmin,max_sep=rmax,nbins=10)\n",
    "\n",
    "RD = treecorr.NNCorrelation(min_sep=rmin,max_sep=rmax,nbins=10) \n",
    "#usually RD=DR\n"
   ]
  },
  {
   "cell_type": "code",
   "execution_count": 60,
   "metadata": {},
   "outputs": [
    {
     "name": "stdout",
     "output_type": "stream",
     "text": [
      "CPU times: user 17.3 s, sys: 366 ms, total: 17.6 s\n",
      "Wall time: 17.6 s\n"
     ]
    }
   ],
   "source": [
    "metric='Euclidean'  #distance defition. see https://rmjarvis.github.io/TreeCorr/_build/html/metric.html\n",
    "%time DD.process(D1,D2, metric=metric)"
   ]
  },
  {
   "cell_type": "code",
   "execution_count": 61,
   "metadata": {},
   "outputs": [
    {
     "name": "stdout",
     "output_type": "stream",
     "text": [
      "CPU times: user 16.8 s, sys: 216 ms, total: 17 s\n",
      "Wall time: 17 s\n"
     ]
    }
   ],
   "source": [
    "%time DR.process(D1,R2, metric=metric)"
   ]
  },
  {
   "cell_type": "code",
   "execution_count": 62,
   "metadata": {},
   "outputs": [
    {
     "name": "stdout",
     "output_type": "stream",
     "text": [
      "CPU times: user 3min 56s, sys: 448 ms, total: 3min 56s\n",
      "Wall time: 3min 57s\n"
     ]
    }
   ],
   "source": [
    "%time RD.process(R1,D2, metric=metric)"
   ]
  },
  {
   "cell_type": "code",
   "execution_count": 63,
   "metadata": {},
   "outputs": [
    {
     "name": "stdout",
     "output_type": "stream",
     "text": [
      "CPU times: user 6min 38s, sys: 315 ms, total: 6min 38s\n",
      "Wall time: 6min 38s\n"
     ]
    }
   ],
   "source": [
    "%time RR.process(R1,R2, metric=metric)"
   ]
  },
  {
   "cell_type": "code",
   "execution_count": 65,
   "metadata": {},
   "outputs": [],
   "source": [
    "xi,varxi = DD.calculateXi(RR, DR, RD)"
   ]
  },
  {
   "cell_type": "code",
   "execution_count": 66,
   "metadata": {},
   "outputs": [
    {
     "data": {
      "text/plain": [
       "array([  14.05523938,   24.82606981,   43.758878  ,   77.04943726,\n",
       "        136.27478277,  239.38737884,  420.95183666,  748.82126708,\n",
       "       1296.62079284, 2318.63240231])"
      ]
     },
     "execution_count": 66,
     "metadata": {},
     "output_type": "execute_result"
    }
   ],
   "source": [
    "DD.meanr  #center of r-bins"
   ]
  },
  {
   "cell_type": "code",
   "execution_count": 67,
   "metadata": {},
   "outputs": [
    {
     "data": {
      "text/plain": [
       "array([  1769.,   3422.,   6883.,  15670.,  35407.,  74401., 132675.,\n",
       "       198271., 240094., 245430.])"
      ]
     },
     "execution_count": 67,
     "metadata": {},
     "output_type": "execute_result"
    }
   ],
   "source": [
    "DD.npairs #pair count"
   ]
  },
  {
   "cell_type": "code",
   "execution_count": 68,
   "metadata": {},
   "outputs": [
    {
     "data": {
      "text/plain": [
       "array([0.0000e+00, 0.0000e+00, 0.0000e+00, 0.0000e+00, 8.0000e+00,\n",
       "       4.2000e+01, 1.6300e+02, 8.6600e+02, 4.8700e+03, 2.5312e+04])"
      ]
     },
     "execution_count": 68,
     "metadata": {},
     "output_type": "execute_result"
    }
   ],
   "source": [
    "DR.npairs"
   ]
  },
  {
   "cell_type": "code",
   "execution_count": 69,
   "metadata": {},
   "outputs": [
    {
     "data": {
      "text/plain": [
       "array([3.75600000e+03, 2.12900000e+04, 1.18726000e+05, 6.53544000e+05,\n",
       "       3.61287000e+06, 1.99202220e+07, 1.10177862e+08, 6.07012442e+08,\n",
       "       3.32233385e+09, 1.80129800e+10])"
      ]
     },
     "execution_count": 69,
     "metadata": {},
     "output_type": "execute_result"
    }
   ],
   "source": [
    "RR.npairs"
   ]
  },
  {
   "cell_type": "code",
   "execution_count": 70,
   "metadata": {},
   "outputs": [
    {
     "data": {
      "text/plain": [
       "array([3.84500000e+03, 2.13310000e+04, 1.17144000e+05, 6.53711000e+05,\n",
       "       3.63499200e+06, 2.00111470e+07, 1.10251780e+08, 6.05310147e+08,\n",
       "       3.30215267e+09, 1.78382789e+10])"
      ]
     },
     "execution_count": 70,
     "metadata": {},
     "output_type": "execute_result"
    }
   ],
   "source": [
    "RD.npairs"
   ]
  },
  {
   "cell_type": "code",
   "execution_count": 71,
   "metadata": {},
   "outputs": [
    {
     "data": {
      "text/plain": [
       "array([2.81015429e+05, 1.21440221e+05, 5.14007270e+04, 2.13039736e+04,\n",
       "       8.06450185e+03, 2.93926972e+03, 8.85485487e+02, 2.41452319e+02,\n",
       "       5.28134619e+01, 8.77328472e+00])"
      ]
     },
     "execution_count": 71,
     "metadata": {},
     "output_type": "execute_result"
    }
   ],
   "source": [
    "xi"
   ]
  },
  {
   "cell_type": "code",
   "execution_count": 72,
   "metadata": {},
   "outputs": [
    {
     "data": {
      "text/plain": [
       "array([7.06546097e+02, 1.24649466e+02, 2.23521987e+01, 4.06060975e+00,\n",
       "       7.34537125e-01, 1.33220761e-01, 2.40863917e-02, 4.37188261e-03,\n",
       "       7.98771966e-04, 1.47326380e-04])"
      ]
     },
     "execution_count": 72,
     "metadata": {},
     "output_type": "execute_result"
    }
   ],
   "source": [
    "varxi"
   ]
  },
  {
   "cell_type": "code",
   "execution_count": null,
   "metadata": {},
   "outputs": [],
   "source": []
  },
  {
   "cell_type": "code",
   "execution_count": 73,
   "metadata": {},
   "outputs": [
    {
     "data": {
      "text/plain": [
       "<matplotlib.legend.Legend at 0x7ffcb310e7d0>"
      ]
     },
     "execution_count": 73,
     "metadata": {},
     "output_type": "execute_result"
    },
    {
     "data": {
      "image/png": "[encoded data removed]",
      "text/plain": [
       "<Figure size 518.4x468 with 1 Axes>"
      ]
     },
     "metadata": {
      "needs_background": "light"
     },
     "output_type": "display_data"
    }
   ],
   "source": [
    "fig = plt.figure(figsize=(7.2,6.5))\n",
    "plt.rc('font',size=20)\n",
    "\n",
    "ax1=fig.add_axes([0.16,0.11,0.82,0.84])\n",
    "\n",
    "ax1.plot(DD.meanr,xi,label='hydro Mhalo=[14,15]',color='blue')\n",
    "\n",
    "ax1.set_xlabel('r')\n",
    "ax1.set_ylabel(r'$\\xi(r)$')\n",
    "\n",
    "ax1.set_yscale('log')\n",
    "ax1.set_xscale('log')\n",
    "\n",
    "ax1.legend(loc='best',prop={'size':18})"
   ]
  },
  {
   "cell_type": "code",
   "execution_count": null,
   "metadata": {},
   "outputs": [],
   "source": []
  },
  {
   "cell_type": "markdown",
   "metadata": {},
   "source": [
    "### check periodic metrix"
   ]
  },
  {
   "cell_type": "code",
   "execution_count": 51,
   "metadata": {},
   "outputs": [],
   "source": [
    "DD2 = treecorr.NNCorrelation(min_sep=rmin, max_sep=rmax, nbins=10, period=75000.)\n",
    "DR2 = treecorr.NNCorrelation(min_sep=rmin, max_sep=rmax, nbins=10, period=75000.)\n",
    "RR2 = treecorr.NNCorrelation(min_sep=rmin, max_sep=rmax, nbins=10, period=75000.)\n",
    "RD2 = treecorr.NNCorrelation(min_sep=rmin, max_sep=rmax, nbins=10, period=75000.) "
   ]
  },
  {
   "cell_type": "code",
   "execution_count": 54,
   "metadata": {},
   "outputs": [
    {
     "name": "stdout",
     "output_type": "stream",
     "text": [
      "CPU times: user 12.8 ms, sys: 863 µs, total: 13.7 ms\n",
      "Wall time: 12.4 ms\n"
     ]
    }
   ],
   "source": [
    "%time DD2.process(D1,D2, metric='Periodic')"
   ]
  },
  {
   "cell_type": "code",
   "execution_count": 52,
   "metadata": {},
   "outputs": [
    {
     "name": "stdout",
     "output_type": "stream",
     "text": [
      "CPU times: user 16.6 s, sys: 169 ms, total: 16.8 s\n",
      "Wall time: 16.8 s\n"
     ]
    }
   ],
   "source": [
    "%time DR2.process(D1,R2, metric='Periodic')"
   ]
  },
  {
   "cell_type": "code",
   "execution_count": 53,
   "metadata": {},
   "outputs": [
    {
     "name": "stdout",
     "output_type": "stream",
     "text": [
      "CPU times: user 4min 19s, sys: 406 ms, total: 4min 19s\n",
      "Wall time: 4min 20s\n"
     ]
    }
   ],
   "source": [
    "%time RD2.process(R1,D2, metric='Periodic')"
   ]
  },
  {
   "cell_type": "code",
   "execution_count": 55,
   "metadata": {},
   "outputs": [
    {
     "name": "stdout",
     "output_type": "stream",
     "text": [
      "CPU times: user 6min 54s, sys: 174 ms, total: 6min 54s\n",
      "Wall time: 6min 54s\n"
     ]
    }
   ],
   "source": [
    "%time RR2.process(R1,R2, metric='Periodic')"
   ]
  },
  {
   "cell_type": "code",
   "execution_count": 57,
   "metadata": {},
   "outputs": [],
   "source": [
    "xi2,varxi2 = DD2.calculateXi(RR2, DR2, RD2)"
   ]
  },
  {
   "cell_type": "code",
   "execution_count": null,
   "metadata": {},
   "outputs": [],
   "source": []
  },
  {
   "cell_type": "code",
   "execution_count": 59,
   "metadata": {},
   "outputs": [
    {
     "data": {
      "text/plain": [
       "<matplotlib.legend.Legend at 0x7ffcb33976d0>"
      ]
     },
     "execution_count": 59,
     "metadata": {},
     "output_type": "execute_result"
    },
    {
     "data": {
      "image/png": "[encoded data removed]",
      "text/plain": [
       "<Figure size 518.4x468 with 1 Axes>"
      ]
     },
     "metadata": {
      "needs_background": "light"
     },
     "output_type": "display_data"
    }
   ],
   "source": [
    "fig = plt.figure(figsize=(7.2,6.5))\n",
    "plt.rc('font',size=20)\n",
    "\n",
    "ax1=fig.add_axes([0.16,0.11,0.82,0.84])\n",
    "\n",
    "ax1.plot(DD2.meanr,xi2,label='hydro Mhalo=[14,15]',color='blue')\n",
    "ax1.plot(DD2.meanr,xi,label='hydro Mhalo=[14,15]',color='red')\n",
    "\n",
    "\n",
    "ax1.set_xlabel('r')\n",
    "ax1.set_ylabel(r'$\\xi(r)$')\n",
    "\n",
    "ax1.set_yscale('log')\n",
    "ax1.set_xscale('log')\n",
    "\n",
    "ax1.legend(loc='best',prop={'size':18})"
   ]
  },
  {
   "cell_type": "code",
   "execution_count": null,
   "metadata": {},
   "outputs": [],
   "source": []
  },
  {
   "cell_type": "code",
   "execution_count": null,
   "metadata": {},
   "outputs": [],
   "source": []
  }
 ],
 "metadata": {
  "kernelspec": {
   "display_name": "Python 3",
   "language": "python",
   "name": "python3"
  },
  "language_info": {
   "codemirror_mode": {
    "name": "ipython",
    "version": 3
   },
   "file_extension": ".py",
   "mimetype": "text/x-python",
   "name": "python",
   "nbconvert_exporter": "python",
   "pygments_lexer": "ipython3",
   "version": "3.7.4"
  }
 },
 "nbformat": 4,
 "nbformat_minor": 2
}
