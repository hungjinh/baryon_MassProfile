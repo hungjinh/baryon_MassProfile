{
 "cells": [
  {
   "cell_type": "code",
   "execution_count": 6,
   "metadata": {},
   "outputs": [
    {
     "name": "stdout",
     "output_type": "stream",
     "text": [
      "Populating the interactive namespace from numpy and matplotlib\n"
     ]
    }
   ],
   "source": [
    "import sys\n",
    "sys.path.append(\"/Users/hhg/Research/c_lib/\")\n",
    "import illustris_python as il\n",
    "import pandas as pd\n",
    "from astropy.table import Table\n",
    "import h5py\n",
    "\n",
    "%pylab inline"
   ]
  },
  {
   "cell_type": "code",
   "execution_count": 8,
   "metadata": {},
   "outputs": [],
   "source": [
    "basePath_hydro = '/Users/hhg/Research/baryon_MassProfile/catalog/TNG100-3'\n",
    "basePath_dmo   = '/Users/hhg/Research/baryon_MassProfile/catalog/TNG100-3-dark'"
   ]
  },
  {
   "cell_type": "code",
   "execution_count": 20,
   "metadata": {},
   "outputs": [],
   "source": [
    "snap = 94"
   ]
  },
  {
   "cell_type": "code",
   "execution_count": null,
   "metadata": {},
   "outputs": [],
   "source": []
  },
  {
   "cell_type": "markdown",
   "metadata": {},
   "source": [
    "### 1. loading group catalog"
   ]
  },
  {
   "cell_type": "code",
   "execution_count": 7,
   "metadata": {},
   "outputs": [],
   "source": [
    "fields = ['GroupFirstSub','GroupPos','Group_M_Mean200','Group_R_Mean200','GroupNsubs','GroupMass'] #'GroupMassType'"
   ]
  },
  {
   "cell_type": "code",
   "execution_count": 9,
   "metadata": {},
   "outputs": [],
   "source": [
    "halo_dmo   = il.groupcat.loadHalos(basePath_dmo, snap, fields=fields)"
   ]
  },
  {
   "cell_type": "code",
   "execution_count": 11,
   "metadata": {},
   "outputs": [],
   "source": [
    "halo_hydro = il.groupcat.loadHalos(basePath_hydro, snap, fields=fields)"
   ]
  },
  {
   "cell_type": "code",
   "execution_count": null,
   "metadata": {},
   "outputs": [],
   "source": []
  },
  {
   "cell_type": "markdown",
   "metadata": {},
   "source": [
    "### 2. loading snapshot catalog info"
   ]
  },
  {
   "cell_type": "code",
   "execution_count": 192,
   "metadata": {},
   "outputs": [],
   "source": [
    "dm_hydro_pos = il.snapshot.loadSubset(basePath_hydro, snap, 'dm', fields=[\"Coordinates\"])"
   ]
  },
  {
   "cell_type": "code",
   "execution_count": 193,
   "metadata": {},
   "outputs": [],
   "source": [
    "gas_hydro_pos = il.snapshot.loadSubset(basePath_hydro, snap, 'gas', fields=[\"Coordinates\"])"
   ]
  },
  {
   "cell_type": "code",
   "execution_count": 194,
   "metadata": {},
   "outputs": [
    {
     "data": {
      "text/plain": [
       "(94196375, 3)"
      ]
     },
     "execution_count": 194,
     "metadata": {},
     "output_type": "execute_result"
    }
   ],
   "source": [
    "dm_hydro_pos.shape"
   ]
  },
  {
   "cell_type": "code",
   "execution_count": 195,
   "metadata": {},
   "outputs": [
    {
     "data": {
      "text/plain": [
       "(89037187, 3)"
      ]
     },
     "execution_count": 195,
     "metadata": {},
     "output_type": "execute_result"
    }
   ],
   "source": [
    "gas_hydro_pos.shape"
   ]
  },
  {
   "cell_type": "code",
   "execution_count": 199,
   "metadata": {},
   "outputs": [
    {
     "data": {
      "text/plain": [
       "(183233562, 3)"
      ]
     },
     "execution_count": 199,
     "metadata": {},
     "output_type": "execute_result"
    }
   ],
   "source": [
    "all_pos = np.vstack((dm_hydro_pos, gas_hydro_pos))\n",
    "all_pos.shape"
   ]
  },
  {
   "cell_type": "code",
   "execution_count": 200,
   "metadata": {},
   "outputs": [
    {
     "data": {
      "text/plain": [
       "183233562"
      ]
     },
     "execution_count": 200,
     "metadata": {},
     "output_type": "execute_result"
    }
   ],
   "source": [
    "94196375+89037187"
   ]
  },
  {
   "cell_type": "code",
   "execution_count": null,
   "metadata": {},
   "outputs": [],
   "source": []
  },
  {
   "cell_type": "code",
   "execution_count": 12,
   "metadata": {},
   "outputs": [],
   "source": [
    "fields=[\"Coordinates\"]\n",
    "dm_hydro_pos = il.snapshot.loadSubset(basePath_hydro, snap, 'dm', fields=fields)\n",
    "dm_hydro_pos = dm_hydro_pos/1000.     # change unit to Mpc/h\n",
    "\n",
    "dm_dmo_pos = il.snapshot.loadSubset(basePath_dmo, snap, 'dm', fields=fields)\n",
    "dm_dmo_pos = dm_dmo_pos/1000.         # change unit to Mpc/h"
   ]
  },
  {
   "cell_type": "code",
   "execution_count": 75,
   "metadata": {},
   "outputs": [],
   "source": [
    "fields=[\"Coordinates\"]\n",
    "gas_hydro_pos = il.snapshot.loadSubset(basePath_hydro, snap, 'gas', fields=fields)\n",
    "gas_hydro_pos = gas_hydro_pos/1000.     # change unit to Mpc/h"
   ]
  },
  {
   "cell_type": "code",
   "execution_count": null,
   "metadata": {},
   "outputs": [],
   "source": []
  },
  {
   "cell_type": "code",
   "execution_count": null,
   "metadata": {},
   "outputs": [],
   "source": []
  },
  {
   "cell_type": "markdown",
   "metadata": {},
   "source": [
    "### 3. load \"subhalo_matching_to_dark.hdf5\""
   ]
  },
  {
   "cell_type": "code",
   "execution_count": 17,
   "metadata": {},
   "outputs": [],
   "source": [
    "filename = basePath_hydro+'/subhalo_matching_to_dark.hdf5'\n",
    "hf = h5py.File(filename,'r')"
   ]
  },
  {
   "cell_type": "code",
   "execution_count": 18,
   "metadata": {},
   "outputs": [
    {
     "data": {
      "text/plain": [
       "<KeysViewHDF5 ['Header', 'Snapshot_0', 'Snapshot_1', 'Snapshot_10', 'Snapshot_11', 'Snapshot_12', 'Snapshot_13', 'Snapshot_14', 'Snapshot_15', 'Snapshot_16', 'Snapshot_17', 'Snapshot_18', 'Snapshot_19', 'Snapshot_2', 'Snapshot_20', 'Snapshot_21', 'Snapshot_22', 'Snapshot_23', 'Snapshot_24', 'Snapshot_25', 'Snapshot_26', 'Snapshot_27', 'Snapshot_28', 'Snapshot_29', 'Snapshot_3', 'Snapshot_30', 'Snapshot_31', 'Snapshot_32', 'Snapshot_33', 'Snapshot_34', 'Snapshot_35', 'Snapshot_36', 'Snapshot_37', 'Snapshot_38', 'Snapshot_39', 'Snapshot_4', 'Snapshot_40', 'Snapshot_41', 'Snapshot_42', 'Snapshot_43', 'Snapshot_44', 'Snapshot_45', 'Snapshot_46', 'Snapshot_47', 'Snapshot_48', 'Snapshot_49', 'Snapshot_5', 'Snapshot_50', 'Snapshot_51', 'Snapshot_52', 'Snapshot_53', 'Snapshot_54', 'Snapshot_55', 'Snapshot_56', 'Snapshot_57', 'Snapshot_58', 'Snapshot_59', 'Snapshot_6', 'Snapshot_60', 'Snapshot_61', 'Snapshot_62', 'Snapshot_63', 'Snapshot_64', 'Snapshot_65', 'Snapshot_66', 'Snapshot_67', 'Snapshot_68', 'Snapshot_69', 'Snapshot_7', 'Snapshot_70', 'Snapshot_71', 'Snapshot_72', 'Snapshot_73', 'Snapshot_74', 'Snapshot_75', 'Snapshot_76', 'Snapshot_77', 'Snapshot_78', 'Snapshot_79', 'Snapshot_8', 'Snapshot_80', 'Snapshot_81', 'Snapshot_82', 'Snapshot_83', 'Snapshot_84', 'Snapshot_85', 'Snapshot_86', 'Snapshot_87', 'Snapshot_88', 'Snapshot_89', 'Snapshot_9', 'Snapshot_90', 'Snapshot_91', 'Snapshot_92', 'Snapshot_93', 'Snapshot_94', 'Snapshot_95', 'Snapshot_96', 'Snapshot_97', 'Snapshot_98', 'Snapshot_99']>"
      ]
     },
     "execution_count": 18,
     "metadata": {},
     "output_type": "execute_result"
    }
   ],
   "source": [
    "hf.keys()"
   ]
  },
  {
   "cell_type": "code",
   "execution_count": 19,
   "metadata": {},
   "outputs": [
    {
     "data": {
      "text/plain": [
       "<KeysViewHDF5 ['SubhaloIndexDark_LHaloTree', 'SubhaloIndexDark_SubLink']>"
      ]
     },
     "execution_count": 19,
     "metadata": {},
     "output_type": "execute_result"
    }
   ],
   "source": [
    "hf.get(u'Snapshot_%02d'%snap).keys()"
   ]
  },
  {
   "cell_type": "code",
   "execution_count": null,
   "metadata": {},
   "outputs": [],
   "source": []
  },
  {
   "cell_type": "markdown",
   "metadata": {},
   "source": [
    "Data format: a single file subhalo_matching_to_dark.hdf5 for each simulation. Each contains one hundred groups named Snapshot_N. Within each group are two arrays, each with the same size, equal to the number of subhalos at the corresponding snapshot. The two arrays provide the results of two different matching algorithms, and should for the most part provide the same answer. Each array gives integer indices, whose value is the corresponding index of the matched subhalo in the DM only run. If no suitable match exists, a value of -1 is present for that subhalo index.\n",
    "\n",
    "The first array SubhaloIndexDark_LHaloTree is based on the LHaloTree matching algorithm. The matching is bidirectional, i.e. TNG <-> DMO. In each base, the best subhalo candidate is chosen as that with the largest number of matching DM particles (α=0\n",
    "). Only if the candidate in each direction agrees (bijective), then these matches are saved.\n",
    "\n",
    "The second array SubhaloIndexDark_SubLink is based on the SubLink weighting algorithm. The direction of the matching is TNG -> DMO, i.e. for each subhalo in the baryonic physics box a best match is found in the DMO run.\n",
    "\n",
    "Future: The second two types of matching catalogs (between different resolution levels, and between TNG100 and original Illustris), will be available for selected snapshots in the future, following Lovell+ (2018)."
   ]
  },
  {
   "cell_type": "code",
   "execution_count": null,
   "metadata": {},
   "outputs": [],
   "source": []
  },
  {
   "cell_type": "code",
   "execution_count": 21,
   "metadata": {},
   "outputs": [],
   "source": [
    "ID_matched = np.array(hf[u'Snapshot_%02d'%snap]['SubhaloIndexDark_LHaloTree'])"
   ]
  },
  {
   "cell_type": "code",
   "execution_count": 23,
   "metadata": {},
   "outputs": [
    {
     "data": {
      "text/plain": [
       "array([    0,     1,     2,     3,     4,     9,     8,    -1,     5,\n",
       "           7,     6,    -1,    13,    -1,    -1,    10,    -1,    11,\n",
       "          18,    15,    19,    22,    -1,    17,    -1,    23,    14,\n",
       "          20,    25, 25773,    27,    28,    -1,    -1,    34,    -1,\n",
       "          21,    -1,    30,    31,    50,    36,    -1,    -1,    32,\n",
       "          -1,    33,    26,    35,    37,    38,    47,    -1,    55,\n",
       "          -1,    -1,    76,    45,    42,    44,    40,    64,    52,\n",
       "          54,    48,    39,    -1,    59,    -1,    51,    57,    56,\n",
       "          -1,    -1,    -1,    -1,    -1,    61,    -1,    62,    69,\n",
       "          -1,    63,    -1,    83,    90,    80,    85,    65,    92,\n",
       "          -1,    66,    -1,    95,    -1,    87,    81,    78,    97,\n",
       "          71], dtype=int32)"
      ]
     },
     "execution_count": 23,
     "metadata": {},
     "output_type": "execute_result"
    }
   ],
   "source": [
    "ID_matched[0:100]"
   ]
  },
  {
   "cell_type": "code",
   "execution_count": 24,
   "metadata": {},
   "outputs": [],
   "source": [
    "ID_matched = np.array(hf[u'Snapshot_%02d'%snap]['SubhaloIndexDark_SubLink'])"
   ]
  },
  {
   "cell_type": "code",
   "execution_count": 25,
   "metadata": {},
   "outputs": [
    {
     "data": {
      "text/plain": [
       "array([    0,     1,     2,     3,     4,     9,     8,    46,     5,\n",
       "           7,     6,     0,    13,     0,     0,    10,    29,    11,\n",
       "          18,    15,    19,    22,    16,    17,     1,    23,    14,\n",
       "          20,    25, 25773,    27,    28,     0,     0,    34,     0,\n",
       "          21,    58,    30,    31,     1,    36,    24,     0,    32,\n",
       "          75,    33,    26,    35,    37,    38,    47,     1,    55,\n",
       "           1,     0,    76,    45,    42,    44,    40,    64,    52,\n",
       "          54,    48,    39,    60,    59,    82,    51,    57,    56,\n",
       "          70,     0,     0,     0,     0,    61,     0,    62,    69,\n",
       "          68,    63,     0,     0,    90,    80,    85,    65,    92,\n",
       "          73,    66,     0,    95,     0,    87,    81,    78,    97,\n",
       "          71], dtype=int32)"
      ]
     },
     "execution_count": 25,
     "metadata": {},
     "output_type": "execute_result"
    }
   ],
   "source": [
    "ID_matched[0:100]"
   ]
  },
  {
   "cell_type": "code",
   "execution_count": null,
   "metadata": {},
   "outputs": [],
   "source": []
  },
  {
   "cell_type": "code",
   "execution_count": 187,
   "metadata": {},
   "outputs": [
    {
     "name": "stdout",
     "output_type": "stream",
     "text": [
      "available keys: <KeysViewHDF5 ['SubhaloIndexDark_LHaloTree', 'SubhaloIndexDark_SubLink']>\n"
     ]
    }
   ],
   "source": [
    "%run ../code/hydrosim_kit.py\n",
    "ID_matched2 = load_subhalo_matching_to_dark(basePath_hydro, 94)"
   ]
  },
  {
   "cell_type": "code",
   "execution_count": 190,
   "metadata": {},
   "outputs": [
    {
     "data": {
      "text/plain": [
       "array([ 0,  1,  2, ..., -1, -1, -1], dtype=int32)"
      ]
     },
     "execution_count": 190,
     "metadata": {},
     "output_type": "execute_result"
    }
   ],
   "source": [
    "ID_matched2"
   ]
  },
  {
   "cell_type": "code",
   "execution_count": null,
   "metadata": {},
   "outputs": [],
   "source": []
  },
  {
   "cell_type": "markdown",
   "metadata": {},
   "source": [
    "### 4. test class TNG_info"
   ]
  },
  {
   "cell_type": "code",
   "execution_count": 201,
   "metadata": {},
   "outputs": [],
   "source": [
    "%run ../code/load_catalog.py"
   ]
  },
  {
   "cell_type": "code",
   "execution_count": 202,
   "metadata": {},
   "outputs": [],
   "source": [
    "sim_info = TNG_info(basePath=\"/Users/hhg/Research/baryon_MassProfile/catalog/TNG100-3-dark\", snap=94)"
   ]
  },
  {
   "cell_type": "code",
   "execution_count": 203,
   "metadata": {},
   "outputs": [
    {
     "data": {
      "text/plain": [
       "{'BoxSize': 75000.0,\n",
       " 'FlagDoubleprecision': 0,\n",
       " 'Git_commit': b'd203ec8b07c7e2bdda5f608aa0babea46d603699',\n",
       " 'Git_date': b'Thu Apr 7 14:14:27 2016 +0200',\n",
       " 'HubbleParam': 0.6774,\n",
       " 'Ngroups_ThisFile': 4393,\n",
       " 'Ngroups_Total': 95990,\n",
       " 'Nids_ThisFile': 11382173,\n",
       " 'Nids_Total': 45769534,\n",
       " 'Nsubgroups_ThisFile': 11056,\n",
       " 'Nsubgroups_Total': 117157,\n",
       " 'NumFiles': 4,\n",
       " 'Omega0': 0.3089,\n",
       " 'OmegaLambda': 0.6911,\n",
       " 'Redshift': 0.058507322794512984,\n",
       " 'Time': 0.9447265771954694}"
      ]
     },
     "execution_count": 203,
     "metadata": {},
     "output_type": "execute_result"
    }
   ],
   "source": [
    "sim_info.header_groupCat"
   ]
  },
  {
   "cell_type": "code",
   "execution_count": 204,
   "metadata": {},
   "outputs": [
    {
     "data": {
      "text/plain": [
       "{'BoxSize': 75000.0,\n",
       " 'Composition_vector_length': 0,\n",
       " 'Flag_Cooling': 0,\n",
       " 'Flag_DoublePrecision': 0,\n",
       " 'Flag_Feedback': 0,\n",
       " 'Flag_Metals': 0,\n",
       " 'Flag_Sfr': 0,\n",
       " 'Flag_StellarAge': 0,\n",
       " 'Git_commit': b'd203ec8b07c7e2bdda5f608aa0babea46d603699',\n",
       " 'Git_date': b'Thu Apr 7 14:14:27 2016 +0200',\n",
       " 'HubbleParam': 0.6774,\n",
       " 'MassTable': array([0.        , 0.03839801, 0.        , 0.        , 0.        ,\n",
       "        0.        ]),\n",
       " 'NumFilesPerSnapshot': 4,\n",
       " 'NumPart_ThisFile': array([       0, 23570109,        0,        0,        0,        0],\n",
       "       dtype=int32),\n",
       " 'NumPart_Total': array([       0, 94196375,        0,        0,        0,        0],\n",
       "       dtype=uint32),\n",
       " 'NumPart_Total_HighWord': array([0, 0, 0, 0, 0, 0], dtype=uint32),\n",
       " 'Omega0': 0.3089,\n",
       " 'OmegaBaryon': 0.0486,\n",
       " 'OmegaLambda': 0.6911,\n",
       " 'Redshift': 0.058507322794512984,\n",
       " 'Time': 0.9447265771954694,\n",
       " 'UnitLength_in_cm': 3.085678e+21,\n",
       " 'UnitMass_in_g': 1.989e+43,\n",
       " 'UnitVelocity_in_cm_per_s': 100000.0}"
      ]
     },
     "execution_count": 204,
     "metadata": {},
     "output_type": "execute_result"
    }
   ],
   "source": [
    "sim_info.header_snapCat"
   ]
  },
  {
   "cell_type": "code",
   "execution_count": 186,
   "metadata": {},
   "outputs": [
    {
     "data": {
      "text/plain": [
       "{'dm': 94196375, 'gas': 0, 'star': 0, 'bh': 0}"
      ]
     },
     "execution_count": 186,
     "metadata": {},
     "output_type": "execute_result"
    }
   ],
   "source": [
    "sim_info.Nptls"
   ]
  },
  {
   "cell_type": "code",
   "execution_count": null,
   "metadata": {},
   "outputs": [],
   "source": []
  },
  {
   "cell_type": "markdown",
   "metadata": {},
   "source": [
    "### 5. test class TNGsnap_info"
   ]
  },
  {
   "cell_type": "code",
   "execution_count": 230,
   "metadata": {},
   "outputs": [],
   "source": [
    "%run ../code/load_catalog.py"
   ]
  },
  {
   "cell_type": "code",
   "execution_count": 231,
   "metadata": {},
   "outputs": [],
   "source": [
    "basePath = \"/Users/hhg/Research/baryon_MassProfile/catalog/TNG100-3-dark\"\n",
    "snap = 94"
   ]
  },
  {
   "cell_type": "code",
   "execution_count": 232,
   "metadata": {},
   "outputs": [
    {
     "name": "stdout",
     "output_type": "stream",
     "text": [
      "loading snapshot ptl: dm\n"
     ]
    }
   ],
   "source": [
    "snapInfo = TNGsnap_info(basePath, snap)"
   ]
  },
  {
   "cell_type": "code",
   "execution_count": 233,
   "metadata": {},
   "outputs": [
    {
     "data": {
      "text/plain": [
       "(94196375, 3)"
      ]
     },
     "execution_count": 233,
     "metadata": {},
     "output_type": "execute_result"
    }
   ],
   "source": [
    "snapInfo.ptl_info['pos'].shape"
   ]
  },
  {
   "cell_type": "code",
   "execution_count": null,
   "metadata": {},
   "outputs": [],
   "source": []
  },
  {
   "cell_type": "markdown",
   "metadata": {},
   "source": [
    "### 6. test class TNGgroup_info"
   ]
  },
  {
   "cell_type": "code",
   "execution_count": 318,
   "metadata": {},
   "outputs": [],
   "source": [
    "%run ../code/load_catalog.py\n",
    "\n",
    "basePath = \"/Users/hhg/Research/baryon_MassProfile/catalog/TNG100-3\"\n",
    "snap = 94"
   ]
  },
  {
   "cell_type": "code",
   "execution_count": 319,
   "metadata": {},
   "outputs": [
    {
     "name": "stdout",
     "output_type": "stream",
     "text": [
      "available keys: <KeysViewHDF5 ['SubhaloIndexDark_LHaloTree', 'SubhaloIndexDark_SubLink']>\n"
     ]
    }
   ],
   "source": [
    "TNGhalo = TNGgroup_info(basePath, snap)"
   ]
  },
  {
   "cell_type": "code",
   "execution_count": 322,
   "metadata": {},
   "outputs": [
    {
     "data": {
      "text/plain": [
       "{'GroupFirstSub': array([     0,    420,    797, ..., 120263, 120264, 120265], dtype=int32),\n",
       " 'GroupPos': array([[  832.96014, 26403.248  , 18410.014  ],\n",
       "        [19993.701  , 48258.637  , 48648.336  ],\n",
       "        [10804.087  , 50909.492  , 47557.23   ],\n",
       "        ...,\n",
       "        [64520.195  , 47187.598  , 15187.027  ],\n",
       "        [58658.555  , 13320.293  , 55673.53   ],\n",
       "        [60744.94   ,  3213.2454 , 73041.836  ]], dtype=float32),\n",
       " 'Group_M_Mean200': array([3.0557238e+04, 3.4887852e+04, 2.8777768e+04, ..., 7.4982941e-01,\n",
       "        6.8547320e-01, 6.4713508e-01], dtype=float32),\n",
       " 'Group_R_Mean200': array([1620.4757  , 1693.6893  , 1588.462   , ...,   47.091873,\n",
       "          45.703583,   44.834366], dtype=float32),\n",
       " 'GroupNsubs': array([420, 377, 353, ...,   1,   1,   1], dtype=int32),\n",
       " 'GroupMass': array([3.2137162e+04, 3.1796176e+04, 2.6912441e+04, ..., 8.3384454e-01,\n",
       "        7.9033959e-01, 7.9189974e-01], dtype=float32),\n",
       " 'ID_FoFhalo': array([     0,      1,      2, ..., 126586, 126587, 126588]),\n",
       " 'matched_ID_Subhalo_dmo': array([  0, 482, 884, ...,  -1,  -1,  -1], dtype=int32),\n",
       " 'matched_ID_FoFhalo_dmo': array([    0,     1,     2, ..., 95989, 95989, 95989], dtype=int32)}"
      ]
     },
     "execution_count": 322,
     "metadata": {},
     "output_type": "execute_result"
    }
   ],
   "source": [
    "TNGhalo.halo_cat"
   ]
  },
  {
   "cell_type": "code",
   "execution_count": null,
   "metadata": {},
   "outputs": [],
   "source": []
  },
  {
   "cell_type": "markdown",
   "metadata": {},
   "source": [
    "### 7. test TNGmatched_groupCat"
   ]
  },
  {
   "cell_type": "code",
   "execution_count": 365,
   "metadata": {},
   "outputs": [],
   "source": [
    "%run ../code/load_catalog.py\n",
    "\n",
    "basePath_hydro = \"/Users/hhg/Research/baryon_MassProfile/catalog/TNG100-3\"\n",
    "basePath_dmo = \"/Users/hhg/Research/baryon_MassProfile/catalog/TNG100-3-dark\"\n",
    "snap = 94"
   ]
  },
  {
   "cell_type": "code",
   "execution_count": 366,
   "metadata": {},
   "outputs": [
    {
     "name": "stdout",
     "output_type": "stream",
     "text": [
      "available keys: <KeysViewHDF5 ['SubhaloIndexDark_LHaloTree', 'SubhaloIndexDark_SubLink']>\n"
     ]
    }
   ],
   "source": [
    "Cat_matched = TNGmatched_groupCat(basePath_hydro, basePath_dmo, snap)"
   ]
  },
  {
   "cell_type": "code",
   "execution_count": 377,
   "metadata": {},
   "outputs": [
    {
     "data": {
      "text/plain": [
       "14.507007523495947"
      ]
     },
     "execution_count": 377,
     "metadata": {},
     "output_type": "execute_result"
    }
   ],
   "source": [
    "np.log10(np.max(Cat_matched.matched_halo_cat_hydro['GroupMass'])*1e10)"
   ]
  },
  {
   "cell_type": "code",
   "execution_count": 378,
   "metadata": {},
   "outputs": [
    {
     "data": {
      "text/plain": [
       "9.820875859305602"
      ]
     },
     "execution_count": 378,
     "metadata": {},
     "output_type": "execute_result"
    }
   ],
   "source": [
    "np.log10(np.min(Cat_matched.matched_halo_cat_hydro['GroupMass'])*1e10)"
   ]
  },
  {
   "cell_type": "code",
   "execution_count": null,
   "metadata": {},
   "outputs": [],
   "source": []
  },
  {
   "cell_type": "code",
   "execution_count": 379,
   "metadata": {},
   "outputs": [
    {
     "name": "stdout",
     "output_type": "stream",
     "text": [
      "available keys: <KeysViewHDF5 ['SubhaloIndexDark_LHaloTree', 'SubhaloIndexDark_SubLink']>\n"
     ]
    }
   ],
   "source": [
    "Cat_matched = TNGmatched_groupCat(basePath_hydro, basePath_dmo, snap, log10_Mhalo_range=[14.0, 15.])"
   ]
  },
  {
   "cell_type": "code",
   "execution_count": 380,
   "metadata": {},
   "outputs": [
    {
     "data": {
      "text/plain": [
       "array([ 0,  1,  2,  3,  4,  5,  6,  7,  8,  9, 10, 11, 12, 13])"
      ]
     },
     "execution_count": 380,
     "metadata": {},
     "output_type": "execute_result"
    }
   ],
   "source": [
    "Cat_matched.matched_halo_cat_hydro['ID_FoFhalo']"
   ]
  },
  {
   "cell_type": "code",
   "execution_count": 381,
   "metadata": {},
   "outputs": [
    {
     "data": {
      "text/plain": [
       "array([ 0,  1,  2,  3,  4,  5,  7,  8,  9,  6, 10, 11, 12, 13])"
      ]
     },
     "execution_count": 381,
     "metadata": {},
     "output_type": "execute_result"
    }
   ],
   "source": [
    "Cat_matched.matched_halo_cat_dmo['ID_FoFhalo']"
   ]
  },
  {
   "cell_type": "code",
   "execution_count": null,
   "metadata": {},
   "outputs": [],
   "source": []
  },
  {
   "cell_type": "code",
   "execution_count": 383,
   "metadata": {},
   "outputs": [
    {
     "data": {
      "text/plain": [
       "(14, 3)"
      ]
     },
     "execution_count": 383,
     "metadata": {},
     "output_type": "execute_result"
    }
   ],
   "source": [
    "Cat_matched.matched_halo_cat_hydro['GroupPos'].shape"
   ]
  },
  {
   "cell_type": "code",
   "execution_count": 384,
   "metadata": {},
   "outputs": [
    {
     "data": {
      "text/plain": [
       "(14, 3)"
      ]
     },
     "execution_count": 384,
     "metadata": {},
     "output_type": "execute_result"
    }
   ],
   "source": [
    "Cat_matched.matched_halo_cat_dmo['GroupPos'].shape"
   ]
  },
  {
   "cell_type": "code",
   "execution_count": null,
   "metadata": {},
   "outputs": [],
   "source": []
  }
 ],
 "metadata": {
  "kernelspec": {
   "display_name": "Python 3",
   "language": "python",
   "name": "python3"
  },
  "language_info": {
   "codemirror_mode": {
    "name": "ipython",
    "version": 3
   },
   "file_extension": ".py",
   "mimetype": "text/x-python",
   "name": "python",
   "nbconvert_exporter": "python",
   "pygments_lexer": "ipython3",
   "version": "3.7.4"
  }
 },
 "nbformat": 4,
 "nbformat_minor": 2
}
